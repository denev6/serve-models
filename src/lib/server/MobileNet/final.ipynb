{
 "cells": [
  {
   "cell_type": "code",
   "execution_count": 1,
   "metadata": {
    "colab": {
     "base_uri": "https://localhost:8080/"
    },
    "executionInfo": {
     "elapsed": 2214,
     "status": "ok",
     "timestamp": 1737160085002,
     "user": {
      "displayName": "박성진",
      "userId": "14717233518650621978"
     },
     "user_tz": -540
    },
    "id": "4TsxQXxDO4wc",
    "outputId": "19cb3e6f-9d8f-4f70-92e6-c6e04be6bd1d"
   },
   "outputs": [
    {
     "name": "stdout",
     "output_type": "stream",
     "text": [
      "Drive already mounted at /content/drive; to attempt to forcibly remount, call drive.mount(\"/content/drive\", force_remount=True).\n"
     ]
    }
   ],
   "source": [
    "import warnings\n",
    "from google.colab import drive\n",
    "\n",
    "drive.mount(\"/content/drive\")\n",
    "warnings.filterwarnings(\"ignore\")\n",
    "\n",
    "MODEL_PATH = \"/content/drive/MyDrive/model.pth\"\n",
    "DATA_PATH = \"/content/drive/MyDrive/MNIST\""
   ]
  },
  {
   "cell_type": "code",
   "execution_count": 2,
   "metadata": {
    "colab": {
     "base_uri": "https://localhost:8080/"
    },
    "executionInfo": {
     "elapsed": 5252,
     "status": "ok",
     "timestamp": 1737160090253,
     "user": {
      "displayName": "박성진",
      "userId": "14717233518650621978"
     },
     "user_tz": -540
    },
    "id": "zykQHCLQVWff",
    "outputId": "0ecf21be-9385-4406-8740-4eb7e79b6099"
   },
   "outputs": [
    {
     "name": "stdout",
     "output_type": "stream",
     "text": [
      "Current device: cuda\n"
     ]
    }
   ],
   "source": [
    "import numpy as np\n",
    "import torch\n",
    "import torch.nn as nn\n",
    "import torch.optim as optim\n",
    "from torchvision import models\n",
    "from torchvision import datasets, transforms\n",
    "from torch.utils.data import DataLoader\n",
    "from torchsummary import summary\n",
    "from torch.utils.data import random_split\n",
    "\n",
    "BATCH_SIZE = 32\n",
    "LABELS = {\n",
    "    0: \"T-shirt/top\",\n",
    "    1: \"Trouser\",\n",
    "    2: \"Pullover\",\n",
    "    3: \"Dress\",\n",
    "    4: \"Coat\",\n",
    "    5: \"Sandal\",\n",
    "    6: \"Shirt\",\n",
    "    7: \"Sneaker\",\n",
    "    8: \"Bag\",\n",
    "    9: \"Ankle boot\",\n",
    "}\n",
    "LR = 0.0001\n",
    "N_EPOCH = 20\n",
    "DEVICE = torch.device(\"cuda\" if torch.cuda.is_available() else \"cpu\")\n",
    "print(\"Current device:\", DEVICE)"
   ]
  },
  {
   "cell_type": "code",
   "execution_count": 3,
   "metadata": {
    "executionInfo": {
     "elapsed": 2,
     "status": "ok",
     "timestamp": 1737160090253,
     "user": {
      "displayName": "박성진",
      "userId": "14717233518650621978"
     },
     "user_tz": -540
    },
    "id": "wAnOwX_BO0KJ"
   },
   "outputs": [],
   "source": [
    "# resize to match MobileNetV2 input\n",
    "transform = transforms.Compose(\n",
    "    [\n",
    "        transforms.Grayscale(num_output_channels=3),\n",
    "        transforms.Resize(224),\n",
    "        transforms.ToTensor(),\n",
    "        transforms.Normalize(mean=[0.485, 0.456, 0.406], std=[0.229, 0.224, 0.225]),\n",
    "    ]\n",
    ")\n",
    "\n",
    "# Load FashionMNIST Dataset\n",
    "train_dataset = datasets.FashionMNIST(\n",
    "    root=DATA_PATH, train=True, transform=transform, download=True\n",
    ")\n",
    "test_dataset = datasets.FashionMNIST(\n",
    "    root=DATA_PATH, train=False, transform=transform, download=True\n",
    ")\n",
    "\n",
    "train_size = int(0.9 * len(train_dataset))\n",
    "valid_size = len(train_dataset) - train_size\n",
    "train_dataset, valid_dataset = random_split(train_dataset, [train_size, valid_size])\n",
    "\n",
    "train_loader = DataLoader(train_dataset, batch_size=BATCH_SIZE, shuffle=True)\n",
    "valid_loader = DataLoader(valid_dataset, batch_size=BATCH_SIZE, shuffle=False)\n",
    "test_loader = DataLoader(test_dataset, batch_size=BATCH_SIZE, shuffle=False)"
   ]
  },
  {
   "cell_type": "code",
   "execution_count": 4,
   "metadata": {
    "executionInfo": {
     "elapsed": 2716,
     "status": "ok",
     "timestamp": 1737160092968,
     "user": {
      "displayName": "박성진",
      "userId": "14717233518650621978"
     },
     "user_tz": -540
    },
    "id": "QTzVsB9XO0KK"
   },
   "outputs": [],
   "source": [
    "model = models.mobilenet_v2(weights=None)\n",
    "model.classifier[1] = nn.Linear(model.last_channel, len(LABELS))\n",
    "model.load_state_dict(torch.load(MODEL_PATH))\n",
    "model = model.to(DEVICE)\n",
    "# summary(model, (3, 224, 224))"
   ]
  },
  {
   "cell_type": "code",
   "execution_count": 5,
   "metadata": {
    "executionInfo": {
     "elapsed": 2,
     "status": "ok",
     "timestamp": 1737160092968,
     "user": {
      "displayName": "박성진",
      "userId": "14717233518650621978"
     },
     "user_tz": -540
    },
    "id": "U2pjzomqQWVU"
   },
   "outputs": [],
   "source": [
    "class EarlyStopping(object):\n",
    "    def __init__(self, patience, save_path):\n",
    "        self._min_loss = np.inf\n",
    "        self._patience = patience\n",
    "        self._path = save_path\n",
    "        self.__counter = 0\n",
    "\n",
    "    def should_stop(self, model, loss):\n",
    "        if loss < self._min_loss:\n",
    "            self._min_loss = loss\n",
    "            self.__counter = 0\n",
    "            torch.save(model.state_dict(), self._path)\n",
    "        elif loss > self._min_loss:\n",
    "            self.__counter += 1\n",
    "            if self.__counter >= self._patience:\n",
    "                return True\n",
    "        return False\n",
    "\n",
    "    def load(self, model):\n",
    "        model.load_state_dict(torch.load(self._path))\n",
    "        return model\n",
    "\n",
    "    @property\n",
    "    def counter(self):\n",
    "        return self.__counter"
   ]
  },
  {
   "cell_type": "code",
   "execution_count": 6,
   "metadata": {
    "executionInfo": {
     "elapsed": 2,
     "status": "ok",
     "timestamp": 1737160092968,
     "user": {
      "displayName": "박성진",
      "userId": "14717233518650621978"
     },
     "user_tz": -540
    },
    "id": "D7OCU0QRO0KL"
   },
   "outputs": [],
   "source": [
    "early_stopper = EarlyStopping(2, MODEL_PATH)\n",
    "criterion = nn.CrossEntropyLoss()\n",
    "criterion.to(DEVICE)\n",
    "optimizer = optim.Adam(model.parameters(), lr=LR)"
   ]
  },
  {
   "cell_type": "code",
   "execution_count": 7,
   "metadata": {
    "executionInfo": {
     "elapsed": 2,
     "status": "ok",
     "timestamp": 1737160092968,
     "user": {
      "displayName": "박성진",
      "userId": "14717233518650621978"
     },
     "user_tz": -540
    },
    "id": "lOYDfSUASWgW"
   },
   "outputs": [],
   "source": [
    "def evaluate(model, criterion, valid_loader, device):\n",
    "    model.eval()\n",
    "    val_loss = 0\n",
    "\n",
    "    with torch.no_grad():\n",
    "        for images, labels in valid_loader:\n",
    "            images, labels = images.to(DEVICE), labels.to(DEVICE)\n",
    "            outputs = model(images)\n",
    "\n",
    "            loss = criterion(outputs, labels)\n",
    "            val_loss += loss.item()\n",
    "\n",
    "        return val_loss / len(valid_loader)\n",
    "\n",
    "\n",
    "def train(model, optimizer, criterion, train_loader, valid_loader, device):\n",
    "    for epoch in range(N_EPOCH):\n",
    "        model.train()\n",
    "        train_loss = 0\n",
    "\n",
    "        for batch_id, (inputs, labels) in enumerate(train_loader):\n",
    "            inputs, labels = inputs.to(DEVICE), labels.to(DEVICE)\n",
    "            outputs = model(inputs)\n",
    "            loss = criterion(outputs, labels)\n",
    "\n",
    "            loss.backward()\n",
    "            optimizer.step()\n",
    "            optimizer.zero_grad()\n",
    "\n",
    "            train_loss += loss.item()\n",
    "\n",
    "        train_loss /= len(train_loader)\n",
    "        val_loss = evaluate(model, criterion, valid_loader, device)\n",
    "        print(f\"[{epoch + 1}] Train: {train_loss:.5f} | Validation: {val_loss:.5f}\")\n",
    "\n",
    "        if early_stopper.should_stop(model, val_loss):\n",
    "            print(f\"EarlyStopping: [Epoch: {epoch - early_stopper.counter + 1}]\")\n",
    "            break"
   ]
  },
  {
   "cell_type": "code",
   "execution_count": 8,
   "metadata": {
    "colab": {
     "base_uri": "https://localhost:8080/"
    },
    "executionInfo": {
     "elapsed": 2593901,
     "status": "ok",
     "timestamp": 1737162686868,
     "user": {
      "displayName": "박성진",
      "userId": "14717233518650621978"
     },
     "user_tz": -540
    },
    "id": "M12ztzqoO0KL",
    "outputId": "ce0eab23-8218-4ebd-e7b0-c25acca1e28c"
   },
   "outputs": [
    {
     "name": "stdout",
     "output_type": "stream",
     "text": [
      "[1] Train: 0.09615 | Validation: 0.07122\n",
      "[2] Train: 0.07905 | Validation: 0.06717\n",
      "[3] Train: 0.07033 | Validation: 0.06387\n",
      "[4] Train: 0.06384 | Validation: 0.06231\n",
      "[5] Train: 0.05764 | Validation: 0.06196\n",
      "[6] Train: 0.05107 | Validation: 0.06074\n",
      "[7] Train: 0.04638 | Validation: 0.06033\n",
      "[8] Train: 0.04151 | Validation: 0.06148\n",
      "[9] Train: 0.03675 | Validation: 0.06153\n",
      "EarlyStopping: [Epoch: 7]\n"
     ]
    }
   ],
   "source": [
    "train(model, optimizer, criterion, train_loader, valid_loader, DEVICE)"
   ]
  },
  {
   "cell_type": "markdown",
   "metadata": {
    "id": "I_c-tIoQO0KL"
   },
   "source": [
    "## Evaluate"
   ]
  },
  {
   "cell_type": "code",
   "execution_count": 9,
   "metadata": {
    "colab": {
     "base_uri": "https://localhost:8080/"
    },
    "executionInfo": {
     "elapsed": 24605,
     "status": "ok",
     "timestamp": 1737162711471,
     "user": {
      "displayName": "박성진",
      "userId": "14717233518650621978"
     },
     "user_tz": -540
    },
    "id": "VRRJSPNnO0KL",
    "outputId": "cbf3ab69-175d-4e49-84ea-ee3c9b6fe249"
   },
   "outputs": [
    {
     "name": "stdout",
     "output_type": "stream",
     "text": [
      "Accuracy: 94.36\n"
     ]
    }
   ],
   "source": [
    "model.eval()\n",
    "correct = 0\n",
    "total = 0\n",
    "\n",
    "with torch.no_grad():\n",
    "    for images, labels in test_loader:\n",
    "        images, labels = images.to(DEVICE), labels.to(DEVICE)\n",
    "        outputs = model(images)\n",
    "\n",
    "        _, predicted = torch.max(outputs, 1)\n",
    "\n",
    "        total += labels.size(0)\n",
    "        correct += (predicted == labels).sum().item()\n",
    "\n",
    "accuracy = 100 * correct / total\n",
    "print(f\"Accuracy: {accuracy:.2f}\")"
   ]
  }
 ],
 "metadata": {
  "accelerator": "GPU",
  "colab": {
   "gpuType": "T4",
   "provenance": [
    {
     "file_id": "1ckc_6k_AVI5lXA1ynYIyEr1oC5qF8rHd",
     "timestamp": 1737125382755
    }
   ]
  },
  "kernelspec": {
   "display_name": "Python 3",
   "name": "python3"
  },
  "language_info": {
   "codemirror_mode": {
    "name": "ipython",
    "version": 3
   },
   "file_extension": ".py",
   "mimetype": "text/x-python",
   "name": "python",
   "nbconvert_exporter": "python",
   "pygments_lexer": "ipython3",
   "version": "3.10.16"
  }
 },
 "nbformat": 4,
 "nbformat_minor": 0
}
