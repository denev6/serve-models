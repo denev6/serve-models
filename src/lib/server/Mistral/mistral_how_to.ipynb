{
 "cells": [
  {
   "metadata": {},
   "cell_type": "code",
   "outputs": [],
   "execution_count": null,
   "source": [
    "from huggingface_hub import login\n",
    "\n",
    "login()"
   ],
   "id": "39a399cb9d5e5ebf"
  },
  {
   "metadata": {
    "ExecuteTime": {
     "end_time": "2025-03-04T04:25:39.552084Z",
     "start_time": "2025-03-04T04:25:36.954820Z"
    }
   },
   "cell_type": "code",
   "source": [
    "from transformers import AutoModelForCausalLM, AutoTokenizer, BitsAndBytesConfig\n",
    "import torch"
   ],
   "id": "cc87badb719133e8",
   "outputs": [],
   "execution_count": 1
  },
  {
   "cell_type": "code",
   "id": "initial_id",
   "metadata": {
    "collapsed": true
   },
   "source": [
    "# Download model and tokenizer\n",
    "model_name = \"mistralai/Mistral-7B-v0.1\"\n",
    "\n",
    "# Quantization to load model on small VRAM\n",
    "quantization_config = BitsAndBytesConfig(\n",
    "    load_in_4bit=True,  # Enable 4-bit quantization\n",
    "    bnb_4bit_compute_dtype=torch.float16,  # Computation precision\n",
    "    bnb_4bit_use_double_quant=True,  # Enable nested quantization for further memory optimization\n",
    "    bnb_4bit_quant_type=\"nf4\",  # Quantization type\n",
    ")\n",
    "\n",
    "tokenizer = AutoTokenizer.from_pretrained(model_name, token=True)\n",
    "model = AutoModelForCausalLM.from_pretrained(\n",
    "    model_name, quantization_config=quantization_config, device_map=\"auto\", token=True\n",
    ")\n",
    "\n",
    "model.save_pretrained(\"./mistral\")\n",
    "tokenizer.save_pretrained(\"./mistral\")"
   ],
   "outputs": [],
   "execution_count": null
  },
  {
   "metadata": {},
   "cell_type": "code",
   "source": [
    "tokenizer = AutoTokenizer.from_pretrained(\"./mistral\")\n",
    "model = AutoModelForCausalLM.from_pretrained(\"./mistral\", device_map=\"auto\")"
   ],
   "id": "26a1594824fed960",
   "outputs": [],
   "execution_count": null
  },
  {
   "metadata": {
    "ExecuteTime": {
     "end_time": "2025-03-04T04:26:02.198709Z",
     "start_time": "2025-03-04T04:25:53.284344Z"
    }
   },
   "cell_type": "code",
   "source": [
    "# Define a prompt\n",
    "prompt = \"Explain ADHD symptoms.\"\n",
    "\n",
    "# Tokenize input\n",
    "inputs = tokenizer(prompt, return_tensors=\"pt\").to(\"cuda\")\n",
    "\n",
    "# Generate output\n",
    "with torch.no_grad():\n",
    "    output = model.generate(\n",
    "        **inputs, max_length=200, pad_token_id=tokenizer.eos_token_id\n",
    "    )\n",
    "\n",
    "# Decode and print the output\n",
    "response = tokenizer.decode(output[0], skip_special_tokens=True)\n",
    "print(response)"
   ],
   "id": "868d4a03b1825a19",
   "outputs": [
    {
     "name": "stderr",
     "output_type": "stream",
     "text": [
      "Starting from v4.46, the `logits` model output will have the same type as the model (except at train time, where it will always be FP32)\n"
     ]
    },
    {
     "name": "stdout",
     "output_type": "stream",
     "text": [
      "Explain ADHD symptoms.\n",
      "\n",
      "Attention deficit hyperactivity disorder (ADHD) is a neurodevelopmental disorder that is characterized by a pattern of inattention and/or hyperactivity-impulsivity that is more frequent and severe than is typically observed in individuals at a comparable level of development.\n",
      "\n",
      "The symptoms of ADHD are divided into two categories: inattention and hyperactivity-impulsivity.\n",
      "\n",
      "Inattention symptoms include:\n",
      "\n",
      "- Difficulty paying attention to details or making careless mistakes in schoolwork, work, or other activities\n",
      "- Difficulty sustaining attention in tasks or play activities\n",
      "- Difficulty organizing tasks and activities\n",
      "- Avoidance or dislike of tasks that require sustained mental effort, such as schoolwork or homework\n",
      "- Losing things necessary for tasks or activities, such as school supplies, pencils, books, tools, wallets, keys, paperwork, eyeglass\n"
     ]
    }
   ],
   "execution_count": 3
  }
 ],
 "metadata": {
  "kernelspec": {
   "display_name": "Python 3",
   "language": "python",
   "name": "python3"
  },
  "language_info": {
   "codemirror_mode": {
    "name": "ipython",
    "version": 2
   },
   "file_extension": ".py",
   "mimetype": "text/x-python",
   "name": "python",
   "nbconvert_exporter": "python",
   "pygments_lexer": "ipython2",
   "version": "2.7.6"
  }
 },
 "nbformat": 4,
 "nbformat_minor": 5
}
